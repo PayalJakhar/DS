{
 "cells": [
  {
   "cell_type": "code",
   "execution_count": 1,
   "id": "c096471b",
   "metadata": {},
   "outputs": [],
   "source": [
    "import pandas as pd\n",
    "\n",
    "# Your dataset\n",
    "data = {\n",
    "    'Name': [\n",
    "        'Zane', 'Cathy', 'Leo', 'Mona', 'Alice', 'David', 'Grace', 'Nate', 'Ben', 'Olivia',\n",
    "        'Bob', 'Victor', 'Quinn', 'Xander', 'Ella', 'Paul', 'Frank', 'Kate', 'Wendy', 'Henry',\n",
    "        'Jack', 'Tina', 'Sam', 'Ivy', 'Cara', 'Rita', 'Yara', 'Dan', 'Uma', 'Abby'\n",
    "    ],\n",
    "    'Age': [\n",
    "        42, 21, 30, 28, 22, 25, 20, 26, 44, 33,\n",
    "        24, 40, 29, 41, 23, 31, 19, 30, 38, 22,\n",
    "        21, 30, 34, 24, 43, 32, 39, 45, 36, 19\n",
    "    ],\n",
    "    'Income': [\n",
    "        62500, 33000, 47000, 50000, 32000, 35000, 34000, 46000, 61500, 49000,\n",
    "        31000, 63000, 52000, 60000, 30000, 51000, 29000, 47000, 61000, 36000,\n",
    "        30000, 48500, 47000, 31000, 63500, 49500, 64000, 64500, 62000, 29000\n",
    "    ]\n",
    "}\n",
    "\n",
    "# Create DataFrame\n",
    "df = pd.DataFrame(data)\n",
    "\n",
    "# Define age bins and labels\n",
    "bins = [18, 24, 29, 34, 39, 45]\n",
    "labels = ['19-24', '25-29', '30-34', '35-39', '40-45']\n",
    "\n",
    "# Create age group categorical variable\n",
    "df['AgeGroup'] = pd.cut(df['Age'], bins=bins, labels=labels, right=True)"
   ]
  },
  {
   "cell_type": "code",
   "execution_count": 3,
   "id": "bac36b9e",
   "metadata": {},
   "outputs": [],
   "source": [
    "# Group by AgeGroup and calculate summary statistics for Age and Income\n",
    "summary_stats = df.groupby('AgeGroup',observed=True).agg({\n",
    "    'Age': ['mean', 'median', 'min', 'max', 'std'],\n",
    "    'Income': ['mean', 'median', 'min', 'max', 'std']\n",
    "}).round(2)"
   ]
  },
  {
   "cell_type": "code",
   "execution_count": 4,
   "id": "2a0c4256",
   "metadata": {},
   "outputs": [
    {
     "name": "stdout",
     "output_type": "stream",
     "text": [
      "            Age                         Income                                \n",
      "           mean median min max   std      mean   median    min    max      std\n",
      "AgeGroup                                                                      \n",
      "19-24     21.50   21.5  19  24  1.84  31500.00  31000.0  29000  36000  2273.03\n",
      "25-29     27.00   27.0  25  29  1.83  45750.00  48000.0  35000  52000  7588.37\n",
      "30-34     31.43   31.0  30  34  1.62  48428.57  48500.0  47000  51000  1539.17\n",
      "35-39     37.67   38.0  36  39  1.53  62333.33  62000.0  61000  64000  1527.53\n",
      "40-45     42.50   42.5  40  45  1.87  62500.00  62750.0  60000  64500  1581.14\n"
     ]
    }
   ],
   "source": [
    "print(summary_stats)"
   ]
  },
  {
   "cell_type": "code",
   "execution_count": 5,
   "id": "fe28b8bd",
   "metadata": {},
   "outputs": [
    {
     "name": "stdout",
     "output_type": "stream",
     "text": [
      "      Name  Age  Income AgeGroup\n",
      "0     Zane   42   62500    40-45\n",
      "1    Cathy   21   33000    19-24\n",
      "2      Leo   30   47000    30-34\n",
      "3     Mona   28   50000    25-29\n",
      "4    Alice   22   32000    19-24\n",
      "5    David   25   35000    25-29\n",
      "6    Grace   20   34000    19-24\n",
      "7     Nate   26   46000    25-29\n",
      "8      Ben   44   61500    40-45\n",
      "9   Olivia   33   49000    30-34\n",
      "10     Bob   24   31000    19-24\n",
      "11  Victor   40   63000    40-45\n",
      "12   Quinn   29   52000    25-29\n",
      "13  Xander   41   60000    40-45\n",
      "14    Ella   23   30000    19-24\n",
      "15    Paul   31   51000    30-34\n",
      "16   Frank   19   29000    19-24\n",
      "17    Kate   30   47000    30-34\n",
      "18   Wendy   38   61000    35-39\n",
      "19   Henry   22   36000    19-24\n",
      "20    Jack   21   30000    19-24\n",
      "21    Tina   30   48500    30-34\n",
      "22     Sam   34   47000    30-34\n",
      "23     Ivy   24   31000    19-24\n",
      "24    Cara   43   63500    40-45\n",
      "25    Rita   32   49500    30-34\n",
      "26    Yara   39   64000    35-39\n",
      "27     Dan   45   64500    40-45\n",
      "28     Uma   36   62000    35-39\n",
      "29    Abby   19   29000    19-24\n"
     ]
    }
   ],
   "source": [
    "print(df)"
   ]
  },
  {
   "cell_type": "code",
   "execution_count": 6,
   "id": "23e85e16",
   "metadata": {},
   "outputs": [],
   "source": [
    "# Flatten MultiIndex columns\n",
    "summary_stats.columns = ['_'.join(col) for col in summary_stats.columns]"
   ]
  },
  {
   "cell_type": "code",
   "execution_count": 7,
   "id": "48cd1158",
   "metadata": {},
   "outputs": [
    {
     "name": "stdout",
     "output_type": "stream",
     "text": [
      "      Name  Age  Income AgeGroup\n",
      "0     Zane   42   62500    40-45\n",
      "1    Cathy   21   33000    19-24\n",
      "2      Leo   30   47000    30-34\n",
      "3     Mona   28   50000    25-29\n",
      "4    Alice   22   32000    19-24\n",
      "5    David   25   35000    25-29\n",
      "6    Grace   20   34000    19-24\n",
      "7     Nate   26   46000    25-29\n",
      "8      Ben   44   61500    40-45\n",
      "9   Olivia   33   49000    30-34\n",
      "10     Bob   24   31000    19-24\n",
      "11  Victor   40   63000    40-45\n",
      "12   Quinn   29   52000    25-29\n",
      "13  Xander   41   60000    40-45\n",
      "14    Ella   23   30000    19-24\n",
      "15    Paul   31   51000    30-34\n",
      "16   Frank   19   29000    19-24\n",
      "17    Kate   30   47000    30-34\n",
      "18   Wendy   38   61000    35-39\n",
      "19   Henry   22   36000    19-24\n",
      "20    Jack   21   30000    19-24\n",
      "21    Tina   30   48500    30-34\n",
      "22     Sam   34   47000    30-34\n",
      "23     Ivy   24   31000    19-24\n",
      "24    Cara   43   63500    40-45\n",
      "25    Rita   32   49500    30-34\n",
      "26    Yara   39   64000    35-39\n",
      "27     Dan   45   64500    40-45\n",
      "28     Uma   36   62000    35-39\n",
      "29    Abby   19   29000    19-24\n"
     ]
    }
   ],
   "source": [
    "print(df)"
   ]
  },
  {
   "cell_type": "code",
   "execution_count": 8,
   "id": "38a621f5",
   "metadata": {},
   "outputs": [
    {
     "name": "stdout",
     "output_type": "stream",
     "text": [
      "          Age_mean  Age_median  Age_min  Age_max  Age_std  Income_mean  \\\n",
      "AgeGroup                                                                 \n",
      "19-24        21.50        21.5       19       24     1.84     31500.00   \n",
      "25-29        27.00        27.0       25       29     1.83     45750.00   \n",
      "30-34        31.43        31.0       30       34     1.62     48428.57   \n",
      "35-39        37.67        38.0       36       39     1.53     62333.33   \n",
      "40-45        42.50        42.5       40       45     1.87     62500.00   \n",
      "\n",
      "          Income_median  Income_min  Income_max  Income_std  \n",
      "AgeGroup                                                     \n",
      "19-24           31000.0       29000       36000     2273.03  \n",
      "25-29           48000.0       35000       52000     7588.37  \n",
      "30-34           48500.0       47000       51000     1539.17  \n",
      "35-39           62000.0       61000       64000     1527.53  \n",
      "40-45           62750.0       60000       64500     1581.14  \n"
     ]
    }
   ],
   "source": [
    "print(summary_stats)"
   ]
  },
  {
   "cell_type": "code",
   "execution_count": 9,
   "id": "87ea5b23",
   "metadata": {},
   "outputs": [
    {
     "name": "stdout",
     "output_type": "stream",
     "text": [
      "<class 'pandas.core.frame.DataFrame'>\n",
      "CategoricalIndex: 5 entries, 19-24 to 40-45\n",
      "Data columns (total 10 columns):\n",
      " #   Column         Non-Null Count  Dtype  \n",
      "---  ------         --------------  -----  \n",
      " 0   Age_mean       5 non-null      float64\n",
      " 1   Age_median     5 non-null      float64\n",
      " 2   Age_min        5 non-null      int64  \n",
      " 3   Age_max        5 non-null      int64  \n",
      " 4   Age_std        5 non-null      float64\n",
      " 5   Income_mean    5 non-null      float64\n",
      " 6   Income_median  5 non-null      float64\n",
      " 7   Income_min     5 non-null      int64  \n",
      " 8   Income_max     5 non-null      int64  \n",
      " 9   Income_std     5 non-null      float64\n",
      "dtypes: float64(6), int64(4)\n",
      "memory usage: 617.0 bytes\n"
     ]
    }
   ],
   "source": [
    "summary_stats.info()"
   ]
  },
  {
   "cell_type": "code",
   "execution_count": 10,
   "id": "c192b2a3",
   "metadata": {},
   "outputs": [
    {
     "data": {
      "text/html": [
       "<div>\n",
       "<style scoped>\n",
       "    .dataframe tbody tr th:only-of-type {\n",
       "        vertical-align: middle;\n",
       "    }\n",
       "\n",
       "    .dataframe tbody tr th {\n",
       "        vertical-align: top;\n",
       "    }\n",
       "\n",
       "    .dataframe thead th {\n",
       "        text-align: right;\n",
       "    }\n",
       "</style>\n",
       "<table border=\"1\" class=\"dataframe\">\n",
       "  <thead>\n",
       "    <tr style=\"text-align: right;\">\n",
       "      <th></th>\n",
       "      <th>Age_mean</th>\n",
       "      <th>Age_median</th>\n",
       "      <th>Age_min</th>\n",
       "      <th>Age_max</th>\n",
       "      <th>Age_std</th>\n",
       "      <th>Income_mean</th>\n",
       "      <th>Income_median</th>\n",
       "      <th>Income_min</th>\n",
       "      <th>Income_max</th>\n",
       "      <th>Income_std</th>\n",
       "    </tr>\n",
       "    <tr>\n",
       "      <th>AgeGroup</th>\n",
       "      <th></th>\n",
       "      <th></th>\n",
       "      <th></th>\n",
       "      <th></th>\n",
       "      <th></th>\n",
       "      <th></th>\n",
       "      <th></th>\n",
       "      <th></th>\n",
       "      <th></th>\n",
       "      <th></th>\n",
       "    </tr>\n",
       "  </thead>\n",
       "  <tbody>\n",
       "    <tr>\n",
       "      <th>19-24</th>\n",
       "      <td>21.50</td>\n",
       "      <td>21.5</td>\n",
       "      <td>19</td>\n",
       "      <td>24</td>\n",
       "      <td>1.84</td>\n",
       "      <td>31500.00</td>\n",
       "      <td>31000.0</td>\n",
       "      <td>29000</td>\n",
       "      <td>36000</td>\n",
       "      <td>2273.03</td>\n",
       "    </tr>\n",
       "    <tr>\n",
       "      <th>25-29</th>\n",
       "      <td>27.00</td>\n",
       "      <td>27.0</td>\n",
       "      <td>25</td>\n",
       "      <td>29</td>\n",
       "      <td>1.83</td>\n",
       "      <td>45750.00</td>\n",
       "      <td>48000.0</td>\n",
       "      <td>35000</td>\n",
       "      <td>52000</td>\n",
       "      <td>7588.37</td>\n",
       "    </tr>\n",
       "    <tr>\n",
       "      <th>30-34</th>\n",
       "      <td>31.43</td>\n",
       "      <td>31.0</td>\n",
       "      <td>30</td>\n",
       "      <td>34</td>\n",
       "      <td>1.62</td>\n",
       "      <td>48428.57</td>\n",
       "      <td>48500.0</td>\n",
       "      <td>47000</td>\n",
       "      <td>51000</td>\n",
       "      <td>1539.17</td>\n",
       "    </tr>\n",
       "    <tr>\n",
       "      <th>35-39</th>\n",
       "      <td>37.67</td>\n",
       "      <td>38.0</td>\n",
       "      <td>36</td>\n",
       "      <td>39</td>\n",
       "      <td>1.53</td>\n",
       "      <td>62333.33</td>\n",
       "      <td>62000.0</td>\n",
       "      <td>61000</td>\n",
       "      <td>64000</td>\n",
       "      <td>1527.53</td>\n",
       "    </tr>\n",
       "    <tr>\n",
       "      <th>40-45</th>\n",
       "      <td>42.50</td>\n",
       "      <td>42.5</td>\n",
       "      <td>40</td>\n",
       "      <td>45</td>\n",
       "      <td>1.87</td>\n",
       "      <td>62500.00</td>\n",
       "      <td>62750.0</td>\n",
       "      <td>60000</td>\n",
       "      <td>64500</td>\n",
       "      <td>1581.14</td>\n",
       "    </tr>\n",
       "  </tbody>\n",
       "</table>\n",
       "</div>"
      ],
      "text/plain": [
       "          Age_mean  Age_median  Age_min  Age_max  Age_std  Income_mean  \\\n",
       "AgeGroup                                                                 \n",
       "19-24        21.50        21.5       19       24     1.84     31500.00   \n",
       "25-29        27.00        27.0       25       29     1.83     45750.00   \n",
       "30-34        31.43        31.0       30       34     1.62     48428.57   \n",
       "35-39        37.67        38.0       36       39     1.53     62333.33   \n",
       "40-45        42.50        42.5       40       45     1.87     62500.00   \n",
       "\n",
       "          Income_median  Income_min  Income_max  Income_std  \n",
       "AgeGroup                                                     \n",
       "19-24           31000.0       29000       36000     2273.03  \n",
       "25-29           48000.0       35000       52000     7588.37  \n",
       "30-34           48500.0       47000       51000     1539.17  \n",
       "35-39           62000.0       61000       64000     1527.53  \n",
       "40-45           62750.0       60000       64500     1581.14  "
      ]
     },
     "execution_count": 10,
     "metadata": {},
     "output_type": "execute_result"
    }
   ],
   "source": [
    "summary_stats.head()"
   ]
  },
  {
   "cell_type": "code",
   "execution_count": 11,
   "id": "757dc3ea",
   "metadata": {},
   "outputs": [
    {
     "name": "stdout",
     "output_type": "stream",
     "text": [
      "Summary statistics grouped by AgeGroup:\n",
      "\n",
      "          Age_mean  Age_median  Age_min  Age_max  Age_std  Income_mean  \\\n",
      "AgeGroup                                                                 \n",
      "19-24        21.50        21.5       19       24     1.84     31500.00   \n",
      "25-29        27.00        27.0       25       29     1.83     45750.00   \n",
      "30-34        31.43        31.0       30       34     1.62     48428.57   \n",
      "35-39        37.67        38.0       36       39     1.53     62333.33   \n",
      "40-45        42.50        42.5       40       45     1.87     62500.00   \n",
      "\n",
      "          Income_median  Income_min  Income_max  Income_std  \n",
      "AgeGroup                                                     \n",
      "19-24           31000.0       29000       36000     2273.03  \n",
      "25-29           48000.0       35000       52000     7588.37  \n",
      "30-34           48500.0       47000       51000     1539.17  \n",
      "35-39           62000.0       61000       64000     1527.53  \n",
      "40-45           62750.0       60000       64500     1581.14  \n"
     ]
    }
   ],
   "source": [
    "# Display summary statistics\n",
    "print(\"Summary statistics grouped by AgeGroup:\\n\")\n",
    "print(summary_stats)"
   ]
  },
  {
   "cell_type": "code",
   "execution_count": 12,
   "id": "c7d4e71e",
   "metadata": {},
   "outputs": [
    {
     "name": "stdout",
     "output_type": "stream",
     "text": [
      "\n",
      "Mean income per age group: [31500.0, 45750.0, 48428.57, 62333.33, 62500.0]\n"
     ]
    }
   ],
   "source": [
    "# Create list of mean income values per age group\n",
    "mean_income_list = summary_stats['Income_mean'].tolist()\n",
    "print(\"\\nMean income per age group:\", mean_income_list)"
   ]
  },
  {
   "cell_type": "code",
   "execution_count": null,
   "id": "53971218",
   "metadata": {},
   "outputs": [],
   "source": []
  }
 ],
 "metadata": {
  "kernelspec": {
   "display_name": "Python 3.9 (tensorflow_env)",
   "language": "python",
   "name": "tensorflow_env"
  },
  "language_info": {
   "codemirror_mode": {
    "name": "ipython",
    "version": 3
   },
   "file_extension": ".py",
   "mimetype": "text/x-python",
   "name": "python",
   "nbconvert_exporter": "python",
   "pygments_lexer": "ipython3",
   "version": "3.9.21"
  }
 },
 "nbformat": 4,
 "nbformat_minor": 5
}
