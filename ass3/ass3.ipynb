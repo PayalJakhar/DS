{
 "cells": [
  {
   "cell_type": "code",
   "execution_count": 2,
   "id": "96fedafc",
   "metadata": {},
   "outputs": [],
   "source": [
    "import pandas as pd"
   ]
  },
  {
   "cell_type": "code",
   "execution_count": 3,
   "id": "8d931316",
   "metadata": {},
   "outputs": [],
   "source": [
    "data = {\n",
    "    'Name': [\n",
    "        'Zane', 'Cathy', 'Leo', 'Mona', 'Alice', 'David', 'Grace', 'Nate', 'Ben', 'Olivia',\n",
    "        'Bob', 'Victor', 'Quinn', 'Xander', 'Ella', 'Paul', 'Frank', 'Kate', 'Wendy', 'Henry',\n",
    "        'Jack', 'Tina', 'Sam', 'Ivy', 'Cara', 'Rita', 'Yara', 'Dan', 'Uma', 'Abby'\n",
    "    ],\n",
    "    'Age': [\n",
    "        42, 21, 30, 28, 22, 25, 20, 26, 44, 33,\n",
    "        24, 40, 29, 41, 23, 31, 19, 30, 38, 22,\n",
    "        21, 30, 34, 24, 43, 32, 39, 45, 36, 19\n",
    "    ],\n",
    "    'Income': [\n",
    "        62500, 33000, 47000, 50000, 32000, 35000, 34000, 46000, 61500, 49000,\n",
    "        31000, 63000, 52000, 60000, 30000, 51000, 29000, 47000, 61000, 36000,\n",
    "        30000, 48500, 47000, 31000, 63500, 49500, 64000, 64500, 62000, 29000\n",
    "    ]\n",
    "}\n",
    "\n",
    "df=pd.DataFrame(data)"
   ]
  },
  {
   "cell_type": "code",
   "execution_count": 4,
   "id": "2c6391ad",
   "metadata": {},
   "outputs": [
    {
     "name": "stdout",
     "output_type": "stream",
     "text": [
      "<class 'pandas.core.frame.DataFrame'>\n",
      "RangeIndex: 30 entries, 0 to 29\n",
      "Data columns (total 3 columns):\n",
      " #   Column  Non-Null Count  Dtype \n",
      "---  ------  --------------  ----- \n",
      " 0   Name    30 non-null     object\n",
      " 1   Age     30 non-null     int64 \n",
      " 2   Income  30 non-null     int64 \n",
      "dtypes: int64(2), object(1)\n",
      "memory usage: 848.0+ bytes\n"
     ]
    }
   ],
   "source": [
    "df.info()"
   ]
  },
  {
   "cell_type": "code",
   "execution_count": 5,
   "id": "875d9c47",
   "metadata": {},
   "outputs": [
    {
     "data": {
      "text/html": [
       "<div>\n",
       "<style scoped>\n",
       "    .dataframe tbody tr th:only-of-type {\n",
       "        vertical-align: middle;\n",
       "    }\n",
       "\n",
       "    .dataframe tbody tr th {\n",
       "        vertical-align: top;\n",
       "    }\n",
       "\n",
       "    .dataframe thead th {\n",
       "        text-align: right;\n",
       "    }\n",
       "</style>\n",
       "<table border=\"1\" class=\"dataframe\">\n",
       "  <thead>\n",
       "    <tr style=\"text-align: right;\">\n",
       "      <th></th>\n",
       "      <th>Name</th>\n",
       "      <th>Age</th>\n",
       "      <th>Income</th>\n",
       "    </tr>\n",
       "  </thead>\n",
       "  <tbody>\n",
       "    <tr>\n",
       "      <th>0</th>\n",
       "      <td>Zane</td>\n",
       "      <td>42</td>\n",
       "      <td>62500</td>\n",
       "    </tr>\n",
       "    <tr>\n",
       "      <th>1</th>\n",
       "      <td>Cathy</td>\n",
       "      <td>21</td>\n",
       "      <td>33000</td>\n",
       "    </tr>\n",
       "    <tr>\n",
       "      <th>2</th>\n",
       "      <td>Leo</td>\n",
       "      <td>30</td>\n",
       "      <td>47000</td>\n",
       "    </tr>\n",
       "    <tr>\n",
       "      <th>3</th>\n",
       "      <td>Mona</td>\n",
       "      <td>28</td>\n",
       "      <td>50000</td>\n",
       "    </tr>\n",
       "    <tr>\n",
       "      <th>4</th>\n",
       "      <td>Alice</td>\n",
       "      <td>22</td>\n",
       "      <td>32000</td>\n",
       "    </tr>\n",
       "  </tbody>\n",
       "</table>\n",
       "</div>"
      ],
      "text/plain": [
       "    Name  Age  Income\n",
       "0   Zane   42   62500\n",
       "1  Cathy   21   33000\n",
       "2    Leo   30   47000\n",
       "3   Mona   28   50000\n",
       "4  Alice   22   32000"
      ]
     },
     "execution_count": 5,
     "metadata": {},
     "output_type": "execute_result"
    }
   ],
   "source": [
    "df.head()"
   ]
  },
  {
   "cell_type": "code",
   "execution_count": 6,
   "id": "361220a4",
   "metadata": {},
   "outputs": [
    {
     "data": {
      "text/html": [
       "<div>\n",
       "<style scoped>\n",
       "    .dataframe tbody tr th:only-of-type {\n",
       "        vertical-align: middle;\n",
       "    }\n",
       "\n",
       "    .dataframe tbody tr th {\n",
       "        vertical-align: top;\n",
       "    }\n",
       "\n",
       "    .dataframe thead th {\n",
       "        text-align: right;\n",
       "    }\n",
       "</style>\n",
       "<table border=\"1\" class=\"dataframe\">\n",
       "  <thead>\n",
       "    <tr style=\"text-align: right;\">\n",
       "      <th></th>\n",
       "      <th>Name</th>\n",
       "      <th>Age</th>\n",
       "      <th>Income</th>\n",
       "    </tr>\n",
       "  </thead>\n",
       "  <tbody>\n",
       "    <tr>\n",
       "      <th>17</th>\n",
       "      <td>Kate</td>\n",
       "      <td>30</td>\n",
       "      <td>47000</td>\n",
       "    </tr>\n",
       "  </tbody>\n",
       "</table>\n",
       "</div>"
      ],
      "text/plain": [
       "    Name  Age  Income\n",
       "17  Kate   30   47000"
      ]
     },
     "execution_count": 6,
     "metadata": {},
     "output_type": "execute_result"
    }
   ],
   "source": [
    "df.sample()"
   ]
  },
  {
   "cell_type": "code",
   "execution_count": 8,
   "id": "e843f2ee",
   "metadata": {},
   "outputs": [
    {
     "data": {
      "text/html": [
       "<div>\n",
       "<style scoped>\n",
       "    .dataframe tbody tr th:only-of-type {\n",
       "        vertical-align: middle;\n",
       "    }\n",
       "\n",
       "    .dataframe tbody tr th {\n",
       "        vertical-align: top;\n",
       "    }\n",
       "\n",
       "    .dataframe thead th {\n",
       "        text-align: right;\n",
       "    }\n",
       "</style>\n",
       "<table border=\"1\" class=\"dataframe\">\n",
       "  <thead>\n",
       "    <tr style=\"text-align: right;\">\n",
       "      <th></th>\n",
       "      <th>Age</th>\n",
       "      <th>Income</th>\n",
       "    </tr>\n",
       "  </thead>\n",
       "  <tbody>\n",
       "    <tr>\n",
       "      <th>count</th>\n",
       "      <td>30.000000</td>\n",
       "      <td>30.000000</td>\n",
       "    </tr>\n",
       "    <tr>\n",
       "      <th>mean</th>\n",
       "      <td>30.366667</td>\n",
       "      <td>46633.333333</td>\n",
       "    </tr>\n",
       "    <tr>\n",
       "      <th>std</th>\n",
       "      <td>8.223110</td>\n",
       "      <td>12887.399174</td>\n",
       "    </tr>\n",
       "    <tr>\n",
       "      <th>min</th>\n",
       "      <td>19.000000</td>\n",
       "      <td>29000.000000</td>\n",
       "    </tr>\n",
       "    <tr>\n",
       "      <th>25%</th>\n",
       "      <td>23.250000</td>\n",
       "      <td>33250.000000</td>\n",
       "    </tr>\n",
       "    <tr>\n",
       "      <th>50%</th>\n",
       "      <td>30.000000</td>\n",
       "      <td>47750.000000</td>\n",
       "    </tr>\n",
       "    <tr>\n",
       "      <th>75%</th>\n",
       "      <td>37.500000</td>\n",
       "      <td>60750.000000</td>\n",
       "    </tr>\n",
       "    <tr>\n",
       "      <th>max</th>\n",
       "      <td>45.000000</td>\n",
       "      <td>64500.000000</td>\n",
       "    </tr>\n",
       "  </tbody>\n",
       "</table>\n",
       "</div>"
      ],
      "text/plain": [
       "             Age        Income\n",
       "count  30.000000     30.000000\n",
       "mean   30.366667  46633.333333\n",
       "std     8.223110  12887.399174\n",
       "min    19.000000  29000.000000\n",
       "25%    23.250000  33250.000000\n",
       "50%    30.000000  47750.000000\n",
       "75%    37.500000  60750.000000\n",
       "max    45.000000  64500.000000"
      ]
     },
     "execution_count": 8,
     "metadata": {},
     "output_type": "execute_result"
    }
   ],
   "source": [
    "df.describe()"
   ]
  },
  {
   "cell_type": "code",
   "execution_count": 9,
   "id": "11310022",
   "metadata": {},
   "outputs": [
    {
     "name": "stdout",
     "output_type": "stream",
     "text": [
      "      Name  Age  Income\n",
      "0     Zane   42   62500\n",
      "1    Cathy   21   33000\n",
      "2      Leo   30   47000\n",
      "3     Mona   28   50000\n",
      "4    Alice   22   32000\n",
      "5    David   25   35000\n",
      "6    Grace   20   34000\n",
      "7     Nate   26   46000\n",
      "8      Ben   44   61500\n",
      "9   Olivia   33   49000\n",
      "10     Bob   24   31000\n",
      "11  Victor   40   63000\n",
      "12   Quinn   29   52000\n",
      "13  Xander   41   60000\n",
      "14    Ella   23   30000\n",
      "15    Paul   31   51000\n",
      "16   Frank   19   29000\n",
      "17    Kate   30   47000\n",
      "18   Wendy   38   61000\n",
      "19   Henry   22   36000\n",
      "20    Jack   21   30000\n",
      "21    Tina   30   48500\n",
      "22     Sam   34   47000\n",
      "23     Ivy   24   31000\n",
      "24    Cara   43   63500\n",
      "25    Rita   32   49500\n",
      "26    Yara   39   64000\n",
      "27     Dan   45   64500\n",
      "28     Uma   36   62000\n",
      "29    Abby   19   29000\n"
     ]
    }
   ],
   "source": [
    "print(df)"
   ]
  },
  {
   "cell_type": "code",
   "execution_count": 10,
   "id": "8ea12542",
   "metadata": {},
   "outputs": [],
   "source": [
    "bins = [17, 25, 35, 45]\n",
    "labels = ['18-25', '26-35', '36-45']\n",
    "df['Age_Group'] = pd.cut(df['Age'], bins=bins, labels=labels)"
   ]
  },
  {
   "cell_type": "code",
   "execution_count": 11,
   "id": "6f8edc08",
   "metadata": {},
   "outputs": [
    {
     "name": "stdout",
     "output_type": "stream",
     "text": [
      "<class 'pandas.core.frame.DataFrame'>\n",
      "RangeIndex: 30 entries, 0 to 29\n",
      "Data columns (total 4 columns):\n",
      " #   Column     Non-Null Count  Dtype   \n",
      "---  ------     --------------  -----   \n",
      " 0   Name       30 non-null     object  \n",
      " 1   Age        30 non-null     int64   \n",
      " 2   Income     30 non-null     int64   \n",
      " 3   Age_Group  30 non-null     category\n",
      "dtypes: category(1), int64(2), object(1)\n",
      "memory usage: 1010.0+ bytes\n"
     ]
    }
   ],
   "source": [
    "df.info()"
   ]
  },
  {
   "cell_type": "code",
   "execution_count": 12,
   "id": "f5875b8a",
   "metadata": {},
   "outputs": [
    {
     "name": "stdout",
     "output_type": "stream",
     "text": [
      "      Name  Age  Income Age_Group\n",
      "0     Zane   42   62500     36-45\n",
      "1    Cathy   21   33000     18-25\n",
      "2      Leo   30   47000     26-35\n",
      "3     Mona   28   50000     26-35\n",
      "4    Alice   22   32000     18-25\n",
      "5    David   25   35000     18-25\n",
      "6    Grace   20   34000     18-25\n",
      "7     Nate   26   46000     26-35\n",
      "8      Ben   44   61500     36-45\n",
      "9   Olivia   33   49000     26-35\n",
      "10     Bob   24   31000     18-25\n",
      "11  Victor   40   63000     36-45\n",
      "12   Quinn   29   52000     26-35\n",
      "13  Xander   41   60000     36-45\n",
      "14    Ella   23   30000     18-25\n",
      "15    Paul   31   51000     26-35\n",
      "16   Frank   19   29000     18-25\n",
      "17    Kate   30   47000     26-35\n",
      "18   Wendy   38   61000     36-45\n",
      "19   Henry   22   36000     18-25\n",
      "20    Jack   21   30000     18-25\n",
      "21    Tina   30   48500     26-35\n",
      "22     Sam   34   47000     26-35\n",
      "23     Ivy   24   31000     18-25\n",
      "24    Cara   43   63500     36-45\n",
      "25    Rita   32   49500     26-35\n",
      "26    Yara   39   64000     36-45\n",
      "27     Dan   45   64500     36-45\n",
      "28     Uma   36   62000     36-45\n",
      "29    Abby   19   29000     18-25\n"
     ]
    }
   ],
   "source": [
    "print(df)"
   ]
  },
  {
   "cell_type": "code",
   "execution_count": 13,
   "id": "cc78a90c",
   "metadata": {},
   "outputs": [
    {
     "name": "stderr",
     "output_type": "stream",
     "text": [
      "C:\\Users\\piyus\\AppData\\Local\\Temp\\ipykernel_17332\\3427506461.py:1: FutureWarning: The default of observed=False is deprecated and will be changed to True in a future version of pandas. Pass observed=False to retain current behavior or observed=True to adopt the future default and silence this warning.\n",
      "  grouped = df.groupby('Age_Group')['Income'].agg(['mean', 'median', 'min', 'max', 'std'])\n"
     ]
    }
   ],
   "source": [
    "grouped = df.groupby('Age_Group')['Income'].agg(['mean', 'median', 'min', 'max', 'std'])"
   ]
  },
  {
   "cell_type": "code",
   "execution_count": 14,
   "id": "98e5ab7c",
   "metadata": {},
   "outputs": [],
   "source": [
    "grouped = df.groupby('Age_Group', observed=True)['Income'].agg(['mean', 'median', 'min', 'max', 'std'])\n"
   ]
  },
  {
   "cell_type": "code",
   "execution_count": 15,
   "id": "8f236b64",
   "metadata": {},
   "outputs": [
    {
     "name": "stdout",
     "output_type": "stream",
     "text": [
      "Summary Statistics (Grouped by Age Range):\n",
      "                   mean   median    min    max          std\n",
      "Age_Group                                                  \n",
      "18-25      31818.181818  31000.0  29000  36000  2400.757456\n",
      "26-35      48700.000000  48750.0  46000  52000  1960.725489\n",
      "36-45      62444.444444  62500.0  60000  64500  1467.234738\n"
     ]
    }
   ],
   "source": [
    "print(\"Summary Statistics (Grouped by Age Range):\")\n",
    "print(grouped)"
   ]
  },
  {
   "cell_type": "code",
   "execution_count": null,
   "id": "03b6f393",
   "metadata": {},
   "outputs": [],
   "source": []
  }
 ],
 "metadata": {
  "kernelspec": {
   "display_name": "Python 3.9 (tensorflow_env)",
   "language": "python",
   "name": "tensorflow_env"
  },
  "language_info": {
   "codemirror_mode": {
    "name": "ipython",
    "version": 3
   },
   "file_extension": ".py",
   "mimetype": "text/x-python",
   "name": "python",
   "nbconvert_exporter": "python",
   "pygments_lexer": "ipython3",
   "version": "3.9.21"
  }
 },
 "nbformat": 4,
 "nbformat_minor": 5
}
